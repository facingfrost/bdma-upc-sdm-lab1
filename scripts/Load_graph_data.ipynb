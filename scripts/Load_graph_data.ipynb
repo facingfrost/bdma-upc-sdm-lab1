{
 "cells": [
  {
   "cell_type": "code",
   "execution_count": 12,
   "metadata": {},
   "outputs": [],
   "source": [
    "from Connect_helper_neo4j import create_session, clean_session"
   ]
  },
  {
   "cell_type": "markdown",
   "metadata": {},
   "source": [
    "# (1) Load Nodes"
   ]
  },
  {
   "cell_type": "code",
   "execution_count": 13,
   "metadata": {},
   "outputs": [],
   "source": [
    "def load_node_paper(session):\n",
    "    session.run(\n",
    "        \"\"\"LOAD CSV WITH HEADERS FROM 'https://raw.githubusercontent.com/Ziyong-Zhang/SDM_Lab_1/main/Data/paper.csv' AS node\n",
    "            CREATE (:Paper {\n",
    "                title: node.title,\n",
    "                abstract: node.abstract,\n",
    "                pages: node.pages,\n",
    "                doi: node.DOI,\n",
    "                link: node.link\n",
    "        })\"\"\"\n",
    "    )\n",
    "\n",
    "def load_node_conference(session):\n",
    "    session.run(\n",
    "        \"\"\"LOAD CSV WITH HEADERS FROM 'https://raw.githubusercontent.com/Ziyong-Zhang/SDM_Lab_1/main/Data/conference.csv' AS node\n",
    "            CREATE (:Conference {\n",
    "                name: node.name,\n",
    "                year: toInteger(node.year),\n",
    "                city: node.city\n",
    "        })\"\"\"\n",
    "    )\n",
    "\n",
    "def load_node_journal(session):\n",
    "    session.run(\n",
    "        \"\"\"LOAD CSV WITH HEADERS FROM 'https://raw.githubusercontent.com/Ziyong-Zhang/SDM_Lab_1/main/Data/journal.csv' AS node\n",
    "            CREATE (:Journal {\n",
    "                journal_name: node.journal_name\n",
    "        })\"\"\"\n",
    "    )\n",
    "\n",
    "def load_node_proceeding(session):\n",
    "    session.run(\n",
    "        \"\"\"LOAD CSV WITH HEADERS FROM 'https://raw.githubusercontent.com/Ziyong-Zhang/SDM_Lab_1/main/Data/proceeding.csv' AS node\n",
    "            CREATE (:Proceeding {\n",
    "                proceeding_name: node.proceeding_name\n",
    "        })\"\"\"\n",
    "    )\n"
   ]
  },
  {
   "cell_type": "markdown",
   "metadata": {},
   "source": [
    "# (2) Load Relationships"
   ]
  },
  {
   "cell_type": "code",
   "execution_count": 14,
   "metadata": {},
   "outputs": [],
   "source": [
    "def load_relation_conference_belong_to_proceeding(session):\n",
    "    session.run(\n",
    "        \"\"\"LOAD CSV WITH HEADERS FROM 'https://raw.githubusercontent.com/Ziyong-Zhang/SDM_Lab_1/main/Data/conference_belong_to_proceeding.csv' AS relation\n",
    "            MATCH (conf:Conference {name: relation.start_id})\n",
    "            WITH conf, relation\n",
    "            MATCH (proceed:Proceeding {proceeding_name: relation.end_id})\n",
    "            CREATE (conf)-[:belong_to]->(proceed)\"\"\"\n",
    "    )\n",
    "\n",
    "def load_relation_paper_published_in_journal(session):\n",
    "    session.run(\n",
    "        \"\"\"LOAD CSV WITH HEADERS FROM 'https://raw.githubusercontent.com/Ziyong-Zhang/SDM_Lab_1/main/Data/paper_belong_to_journal.csv' AS relation\n",
    "            MATCH (paper:Paper {doi: relation.start_id})\n",
    "            WITH paper, relation\n",
    "            MATCH (journal:Journal {journal_name: relation.end_id})\n",
    "            CREATE (paper)-[:published_in]->(journal)\"\"\"\n",
    "    )\n",
    "\n",
    "def load_relation_paper_presented_in_conference(session):\n",
    "    session.run(\n",
    "        \"\"\"LOAD CSV WITH HEADERS FROM 'https://raw.githubusercontent.com/Ziyong-Zhang/SDM_Lab_1/main/Data/paper_presented_in_conference.csv' AS relation\n",
    "            MATCH (paper:Paper {doi: relation.start_id})\n",
    "            WITH paper, relation\n",
    "            MATCH (conf:Conference {name: relation.end_id})\n",
    "            CREATE (paper)-[:presented_in]->(conf)\"\"\"\n",
    "    )\n",
    "\n",
    "def load_relation_paper_cite_paper(session):\n",
    "    session.run(\n",
    "        \"\"\"LOAD CSV WITH HEADERS FROM 'https://raw.githubusercontent.com/Ziyong-Zhang/SDM_Lab_1/main/Data/paper_cite_paper.csv' AS relation\n",
    "            MATCH (paper:Paper {doi: relation.start_id})\n",
    "            WITH paper, relation\n",
    "            MATCH (paperCited:Paper {doi: relation.end_id})\n",
    "            CREATE (paper)-[:cites]->(paperCited)\"\"\"\n",
    "    )\n"
   ]
  },
  {
   "cell_type": "code",
   "execution_count": 15,
   "metadata": {},
   "outputs": [
    {
     "name": "stdout",
     "output_type": "stream",
     "text": [
      "Creating neo4j connection...\n",
      "Connection success, session initiated...\n",
      "Deleting and detaching all the previous nodes in the database.\n",
      "Clean session successfully.\n",
      "Creating and loading the nodes and relations into the database...\n",
      "Creation and loading done for the database.\n"
     ]
    }
   ],
   "source": [
    "session = create_session()\n",
    "session = clean_session(session)\n",
    "\n",
    "# print('Dropping the indexes created for the nodes and relations in the database...')\n",
    "# session.execute_write(create_indexes)\n",
    "\n",
    "print('Creating and loading the nodes and relations into the database...')\n",
    "session.execute_write(load_node_paper)\n",
    "session.execute_write(load_node_conference)\n",
    "session.execute_write(load_node_journal)\n",
    "session.execute_write(load_node_proceeding)\n",
    "session.execute_write(load_relation_conference_belong_to_proceeding)\n",
    "session.execute_write(load_relation_paper_published_in_journal)\n",
    "session.execute_write(load_relation_paper_presented_in_conference)\n",
    "session.execute_write(load_relation_paper_cite_paper)\n",
    "print('Creation and loading done for the database.')\n",
    "# print('Creating the indexes for the nodes and relations in the database...')\n",
    "# session.execute_write(create_indexes)\n",
    "\n",
    "session.close()"
   ]
  }
 ],
 "metadata": {
  "kernelspec": {
   "display_name": "base",
   "language": "python",
   "name": "python3"
  },
  "language_info": {
   "codemirror_mode": {
    "name": "ipython",
    "version": 3
   },
   "file_extension": ".py",
   "mimetype": "text/x-python",
   "name": "python",
   "nbconvert_exporter": "python",
   "pygments_lexer": "ipython3",
   "version": "3.9.18"
  }
 },
 "nbformat": 4,
 "nbformat_minor": 2
}
